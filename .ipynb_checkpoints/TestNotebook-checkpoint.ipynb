{
 "cells": [
  {
   "cell_type": "code",
   "execution_count": 1,
   "id": "98cb73f1",
   "metadata": {},
   "outputs": [],
   "source": [
    "import matplotlib.pyplot as plt\n",
    "import numpy as np\n",
    "import sympy\n",
    "# from scipy.signal import place_poles as place\n",
    "from control.matlab import place\n",
    "from sympy import Symbol\n",
    "\n",
    "MAX_TIME = 20  # seconds\n",
    "MIN_TIME = 0  # seconds\n",
    "sampling_rate = 60\n",
    "Ts = 1/sampling_rate\n",
    "\n",
    "\n",
    "t = np.linspace(MIN_TIME, MAX_TIME, 20*sampling_rate)\n",
    "l = 0.1  # m length of robot\n",
    "d = 0.05  # m distance between wheels/2 (center to center)\n",
    "\n",
    "w_max = np.pi * 2  # rad/s\n",
    "v_max = 0.8  # m/s\n",
    "noise = 0  # Gaussian noise\n",
    "\n",
    "des_poles = np.array([[-2 - 0.5j], [-2 + 0.5j]])\n",
    "\n",
    "# kinematic transpose matrix\n",
    "J = np.array([[1, -1, -l+d],\n",
    "              [1, 1, -l+d],\n",
    "              [1, -1, l+d],\n",
    "              [1, 1, l+d]])\n",
    "J_plus = np.linalg.inv(J.conj().T @ J) @ J.conj().T\n",
    "\n",
    "# reference trajectory\n",
    "freq = 2 * np.pi * (1/15)  # rad/s"
   ]
  },
  {
   "cell_type": "code",
   "execution_count": 2,
   "id": "4b01b82e",
   "metadata": {},
   "outputs": [
    {
     "data": {
      "text/plain": [
       "(array([ 1.        ,  0.99997559,  0.99990236, ..., -0.48784949,\n",
       "        -0.4939368 , -0.5       ]),\n",
       " array([0.        , 0.00698708, 0.01397382, ..., 0.87292776, 0.86949781,\n",
       "        0.8660254 ]),\n",
       " array([-0.        , -0.00292674, -0.00585334, ..., -0.36565112,\n",
       "        -0.36421439, -0.36275987]),\n",
       " array([ 0.41887902,  0.4188688 ,  0.41883812, ..., -0.20434992,\n",
       "        -0.20689976, -0.20943951]),\n",
       " array([-0.17545963, -0.17545535, -0.1754425 , ...,  0.08559789,\n",
       "         0.08666597,  0.08772982]),\n",
       " array([-0.        , -0.00122595, -0.00245184, ..., -0.15316358,\n",
       "        -0.15256177, -0.1519525 ]))"
      ]
     },
     "execution_count": 2,
     "metadata": {},
     "output_type": "execute_result"
    }
   ],
   "source": [
    "# t = Symbol('t')\n",
    "x_ref = np.cos(freq * t)\n",
    "y_ref = np.sin(freq * t)\n",
    "\n",
    "# dx_ref = x_ref.diff(t)\n",
    "# dy_ref = y_ref.diff(t)\n",
    "\n",
    "# ddx_ref = dx_ref.diff(t)\n",
    "# ddy_ref = dy_ref.diff(t)\n",
    "dx_ref = - freq * np.sin(freq * t)\n",
    "dy_ref = freq * np.cos(freq * t)\n",
    "\n",
    "ddx_ref = - freq**2 * np.cos(freq * t)\n",
    "ddy_ref = - freq**2 * np.sin(freq * t)\n",
    "x_ref, y_ref, dx_ref , dy_ref, ddx_ref, ddy_ref"
   ]
  },
  {
   "cell_type": "code",
   "execution_count": 3,
   "id": "f040cd3d",
   "metadata": {},
   "outputs": [
    {
     "data": {
      "text/plain": [
       "((3, 1200), (2, 1200))"
      ]
     },
     "execution_count": 3,
     "metadata": {},
     "output_type": "execute_result"
    }
   ],
   "source": [
    "q_ref = np.array([x_ref, y_ref, np.arctan2(dy_ref, dx_ref)])\n",
    "u_ref = np.array([ddx_ref, ddy_ref])\n",
    "q_ref.shape, u_ref.shape"
   ]
  },
  {
   "cell_type": "code",
   "execution_count": 4,
   "id": "f76039cc",
   "metadata": {},
   "outputs": [
    {
     "data": {
      "text/plain": [
       "(3, 1)"
      ]
     },
     "execution_count": 4,
     "metadata": {},
     "output_type": "execute_result"
    }
   ],
   "source": [
    "q = np.array([[0], [0], [-np.pi]])\n",
    "q.shape"
   ]
  },
  {
   "cell_type": "code",
   "execution_count": 5,
   "id": "f733f2bb",
   "metadata": {},
   "outputs": [
    {
     "data": {
      "text/plain": [
       "((2, 1), (2, 1))"
      ]
     },
     "execution_count": 5,
     "metadata": {},
     "output_type": "execute_result"
    }
   ],
   "source": [
    "z1 = np.array([q[0], dx_ref[0]], dtype='object').reshape(-1,1)  # % x, dx state\n",
    "z2 = np.array([q[1], dy_ref[0]], dtype='object').reshape(-1,1)  # % y, dy state\n",
    "z1.shape, z2.shape"
   ]
  },
  {
   "cell_type": "code",
   "execution_count": 6,
   "id": "da3cd9fe",
   "metadata": {},
   "outputs": [
    {
     "name": "stdout",
     "output_type": "stream",
     "text": [
      "K matrix is: [[4.25 4.  ]], shape(1, 2)\n"
     ]
    }
   ],
   "source": [
    "# circle\n",
    "v = np.sqrt(np.array(z1[1]**2 + z2[1]**2, dtype=np.float64))  # % body velocity\n",
    "\n",
    "A = np.array([[0, 1],\n",
    "              [0, 0]])\n",
    "B = np.array([[0],\n",
    "              [1]])\n",
    "C = np.array([1, 0])\n",
    "\n",
    "\n",
    "K = np.array(place(A, B, des_poles))\n",
    "\n",
    "print(f\"K matrix is: {K}, shape{K.shape}\")"
   ]
  },
  {
   "cell_type": "code",
   "execution_count": 7,
   "id": "a0d81b54",
   "metadata": {},
   "outputs": [],
   "source": [
    "v_r = np.zeros([4, len(t)])  # wheel velocity\n",
    "q_r = np.zeros([3, len(t)])  # position\n",
    "w_r = np.zeros([1, len(t)])  # angular velocity\n",
    "dq_r = np.zeros([3, len(t)])  # body motion (velocity x,y, angular velocity)\n",
    "D_r = np.zeros([1, len(t)])  # distance from body to destination point"
   ]
  },
  {
   "cell_type": "code",
   "execution_count": null,
   "id": "37a25adb",
   "metadata": {},
   "outputs": [],
   "source": [
    "def wraptopi(x):\n",
    "    pi = np.pi\n",
    "    x = x - np.floor(x/(2*pi)) * 2 * pi\n",
    "    return x[x >= pi] - 2*pi\n",
    "\n",
    "\n",
    "for k in range(0, len(t)):\n",
    "    z_ref1 = np.array([[x_ref[k]], [dx_ref[k]]])\n",
    "    z_ref2 = np.array([[y_ref[k]], [dy_ref[k]]])\n",
    "\n",
    "    ez1 = z_ref1 - z1\n",
    "    ez2 = z_ref2 - z2\n",
    "\n",
    "    uu = np.array([ddx_ref[k], ddy_ref[k]], dtype='object') + np.array([K @ ez1, K @ ez2], dtype='object')\n",
    "    D = np.linalg.norm([z1[0]-z_ref1[0], z2[0]-z_ref2[0]])\n",
    "\n",
    "    F = np.array([[np.cos(q[2]), -v * np.sin(q[2])],\n",
    "                  [np.sin(q[2]), v * np.cos(q[2])]], dtype='object').squeeze()\n",
    "\n",
    "    F = F.astype(np.float64)\n",
    "    uu = uu.squeeze().astype(np.float64)\n",
    "    \n",
    "    print(f\"F matrix is \\n{F}, {F.shape}\\n\",\n",
    "          f\"uu matrix is\\n {uu}, {uu.shape}\")\n",
    "\n",
    "    \n",
    "    vv = np.linalg.solve(F, uu)\n",
    "    print('vv res is', vv)\n",
    "\n",
    "    # vv = np.linalg.lstsq(F, uu)\n",
    "\n",
    "    v = v + Ts * vv[0]\n",
    "    u = np.array([v, vv[1]])\n",
    "    print(v.shape, u.shape)\n",
    "\n",
    "    if abs(u[1]) > w_max:\n",
    "        u[1] = w_max * np.sign(u[1])\n",
    "    if abs(v) > v_max:\n",
    "        v = v_max * np.sign(v)\n",
    "\n",
    "    dq = np.array([u[0] * np.cos(q[2]), u[0] * np.sin(q[2]), u[1]]).T\n",
    "\n",
    "    v_m = J @ dq\n",
    "\n",
    "    # simulation\n",
    "\n",
    "    q = q + Ts * dq + np.random.normal(1, noise, 3)\n",
    "    q[2] = wraptopi(q[2])\n",
    "\n",
    "    v_r[:, k] = v_m\n",
    "    q_r[:, k] = q\n",
    "    dq_r[:, k] = dq\n",
    "    D_r[:, k] = D\n",
    "\n",
    "    z1 = np.array([q[0], u[0]*np.cos(q[2])]).reshape(-1, 1)\n",
    "    z2 = np.array([q[1], u[0]*np.sin(q[2])]).reshape(-1, 1)"
   ]
  },
  {
   "cell_type": "code",
   "execution_count": null,
   "id": "a176218b",
   "metadata": {},
   "outputs": [],
   "source": [
    "plt.figure()\n",
    "plt.plot(q_r[0, :], q_r[1, :])\n",
    "plt.plot(x_ref, y_ref, 'r--')\n",
    "plt.title(\"xy plane charting\")\n",
    "plt.legend(['robot', 'reference'])\n",
    "\n",
    "plt.figure()\n",
    "plt.plot(t, v_r)\n",
    "plt.title(\"Individual wheel input velocity\")\n",
    "plt.legend(['wheel 1', 'wheel 2', 'wheel 3', 'wheel 4'])\n",
    "\n",
    "plt.figure()\n",
    "plt.plot(t, D_r)\n",
    "plt.grid(True)\n",
    "plt.title(\"Error distance from body to reference point\")\n"
   ]
  }
 ],
 "metadata": {
  "kernelspec": {
   "display_name": "Python 3 (ipykernel)",
   "language": "python",
   "name": "python3"
  },
  "language_info": {
   "codemirror_mode": {
    "name": "ipython",
    "version": 3
   },
   "file_extension": ".py",
   "mimetype": "text/x-python",
   "name": "python",
   "nbconvert_exporter": "python",
   "pygments_lexer": "ipython3",
   "version": "3.8.10"
  }
 },
 "nbformat": 4,
 "nbformat_minor": 5
}
